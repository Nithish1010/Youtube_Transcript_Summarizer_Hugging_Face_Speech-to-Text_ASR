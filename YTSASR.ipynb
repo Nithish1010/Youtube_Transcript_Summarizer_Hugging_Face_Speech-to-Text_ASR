{
  "nbformat": 4,
  "nbformat_minor": 0,
  "metadata": {
    "colab": {
      "provenance": [],
      "gpuType": "T4",
      "authorship_tag": "ABX9TyPxhgC9d90B3U3W/Utee28S",
      "include_colab_link": true
    },
    "kernelspec": {
      "name": "python3",
      "display_name": "Python 3"
    },
    "language_info": {
      "name": "python"
    },
    "accelerator": "GPU"
  },
  "cells": [
    {
      "cell_type": "markdown",
      "metadata": {
        "id": "view-in-github",
        "colab_type": "text"
      },
      "source": [
        "<a href=\"https://colab.research.google.com/github/Nithish1010/Youtube_Transcript_Summarizer_Hugging_Face_Speech-to-Text_ASR/blob/main/YTSASR.ipynb\" target=\"_parent\"><img src=\"https://colab.research.google.com/assets/colab-badge.svg\" alt=\"Open In Colab\"/></a>"
      ]
    },
    {
      "cell_type": "code",
      "execution_count": 33,
      "metadata": {
        "id": "yag3bC-QPnPN"
      },
      "outputs": [],
      "source": [
        "!pip install pytube -q"
      ]
    },
    {
      "cell_type": "code",
      "source": [
        "from pytube import YouTube"
      ],
      "metadata": {
        "id": "x1fmX5JbRBsC"
      },
      "execution_count": 34,
      "outputs": []
    },
    {
      "cell_type": "code",
      "source": [
        "Video_Url=\"https://www.youtube.com/watch?v=1aA1WGON49E\""
      ],
      "metadata": {
        "id": "oSahEAUPRJLQ"
      },
      "execution_count": 35,
      "outputs": []
    },
    {
      "cell_type": "code",
      "source": [
        "yt=YouTube(Video_Url)"
      ],
      "metadata": {
        "id": "a81kSSiKRVts"
      },
      "execution_count": 36,
      "outputs": []
    },
    {
      "cell_type": "code",
      "source": [
        "yt.streams\\\n",
        "  .filter(only_audio=True,file_extension='mp4') \\\n",
        "  .first()\\\n",
        "  .download(filename = 'ytaudio.mp4' )"
      ],
      "metadata": {
        "colab": {
          "base_uri": "https://localhost:8080/",
          "height": 36
        },
        "id": "P-3FO86eRerE",
        "outputId": "37cff25f-2b1c-4dac-bcc7-505a1538c112"
      },
      "execution_count": 38,
      "outputs": [
        {
          "output_type": "execute_result",
          "data": {
            "text/plain": [
              "'/content/ytaudio.mp4'"
            ],
            "application/vnd.google.colaboratory.intrinsic+json": {
              "type": "string"
            }
          },
          "metadata": {},
          "execution_count": 38
        }
      ]
    },
    {
      "cell_type": "code",
      "source": [
        "! ffmpeg -i ytaudio.mp4 -acodec pcm_s16le -ar 16000 ytaudio.wav"
      ],
      "metadata": {
        "colab": {
          "base_uri": "https://localhost:8080/"
        },
        "id": "wnY79tEGSkHp",
        "outputId": "e4b3da67-0bc6-4036-c371-783aed4db3f1"
      },
      "execution_count": 40,
      "outputs": [
        {
          "output_type": "stream",
          "name": "stdout",
          "text": [
            "ffmpeg version 4.4.2-0ubuntu0.22.04.1 Copyright (c) 2000-2021 the FFmpeg developers\n",
            "  built with gcc 11 (Ubuntu 11.2.0-19ubuntu1)\n",
            "  configuration: --prefix=/usr --extra-version=0ubuntu0.22.04.1 --toolchain=hardened --libdir=/usr/lib/x86_64-linux-gnu --incdir=/usr/include/x86_64-linux-gnu --arch=amd64 --enable-gpl --disable-stripping --enable-gnutls --enable-ladspa --enable-libaom --enable-libass --enable-libbluray --enable-libbs2b --enable-libcaca --enable-libcdio --enable-libcodec2 --enable-libdav1d --enable-libflite --enable-libfontconfig --enable-libfreetype --enable-libfribidi --enable-libgme --enable-libgsm --enable-libjack --enable-libmp3lame --enable-libmysofa --enable-libopenjpeg --enable-libopenmpt --enable-libopus --enable-libpulse --enable-librabbitmq --enable-librubberband --enable-libshine --enable-libsnappy --enable-libsoxr --enable-libspeex --enable-libsrt --enable-libssh --enable-libtheora --enable-libtwolame --enable-libvidstab --enable-libvorbis --enable-libvpx --enable-libwebp --enable-libx265 --enable-libxml2 --enable-libxvid --enable-libzimg --enable-libzmq --enable-libzvbi --enable-lv2 --enable-omx --enable-openal --enable-opencl --enable-opengl --enable-sdl2 --enable-pocketsphinx --enable-librsvg --enable-libmfx --enable-libdc1394 --enable-libdrm --enable-libiec61883 --enable-chromaprint --enable-frei0r --enable-libx264 --enable-shared\n",
            "  libavutil      56. 70.100 / 56. 70.100\n",
            "  libavcodec     58.134.100 / 58.134.100\n",
            "  libavformat    58. 76.100 / 58. 76.100\n",
            "  libavdevice    58. 13.100 / 58. 13.100\n",
            "  libavfilter     7.110.100 /  7.110.100\n",
            "  libswscale      5.  9.100 /  5.  9.100\n",
            "  libswresample   3.  9.100 /  3.  9.100\n",
            "  libpostproc    55.  9.100 / 55.  9.100\n",
            "Input #0, mov,mp4,m4a,3gp,3g2,mj2, from 'ytaudio.mp4':\n",
            "  Metadata:\n",
            "    major_brand     : dash\n",
            "    minor_version   : 0\n",
            "    compatible_brands: iso6mp41\n",
            "    creation_time   : 2021-02-28T06:40:52.000000Z\n",
            "  Duration: 00:01:20.90, start: 0.000000, bitrate: 48 kb/s\n",
            "  Stream #0:0(eng): Audio: aac (HE-AAC) (mp4a / 0x6134706D), 44100 Hz, stereo, fltp, 5 kb/s (default)\n",
            "    Metadata:\n",
            "      creation_time   : 2021-02-28T06:40:52.000000Z\n",
            "      handler_name    : ISO Media file produced by Google Inc.\n",
            "      vendor_id       : [0][0][0][0]\n",
            "File 'ytaudio.wav' already exists. Overwrite? [y/N] Y\n",
            "Stream mapping:\n",
            "  Stream #0:0 -> #0:0 (aac (native) -> pcm_s16le (native))\n",
            "Press [q] to stop, [?] for help\n",
            "Output #0, wav, to 'ytaudio.wav':\n",
            "  Metadata:\n",
            "    major_brand     : dash\n",
            "    minor_version   : 0\n",
            "    compatible_brands: iso6mp41\n",
            "    ISFT            : Lavf58.76.100\n",
            "  Stream #0:0(eng): Audio: pcm_s16le ([1][0][0][0] / 0x0001), 16000 Hz, stereo, s16, 512 kb/s (default)\n",
            "    Metadata:\n",
            "      creation_time   : 2021-02-28T06:40:52.000000Z\n",
            "      handler_name    : ISO Media file produced by Google Inc.\n",
            "      vendor_id       : [0][0][0][0]\n",
            "      encoder         : Lavc58.134.100 pcm_s16le\n",
            "size=    5056kB time=00:01:20.89 bitrate= 512.0kbits/s speed= 289x    \n",
            "video:0kB audio:5056kB subtitle:0kB other streams:0kB global headers:0kB muxing overhead: 0.001507%\n"
          ]
        }
      ]
    },
    {
      "cell_type": "markdown",
      "source": [
        "**English ASR WITH HUGGING SOUND**"
      ],
      "metadata": {
        "id": "GXLN-RCQUAAX"
      }
    },
    {
      "cell_type": "code",
      "source": [
        "!pip install huggingsound -q"
      ],
      "metadata": {
        "id": "eCzKhFAPUMPt"
      },
      "execution_count": 32,
      "outputs": []
    },
    {
      "cell_type": "code",
      "source": [
        "from huggingsound import SpeechRecognitionModel"
      ],
      "metadata": {
        "id": "RQCO564tUcZU"
      },
      "execution_count": 41,
      "outputs": []
    },
    {
      "cell_type": "code",
      "source": [
        "import torch\n",
        "device=\"cuda\" if torch.cuda.is_available() else \"cpu\""
      ],
      "metadata": {
        "id": "mHLd4YzAU5oe"
      },
      "execution_count": 42,
      "outputs": []
    },
    {
      "cell_type": "code",
      "source": [
        "model=SpeechRecognitionModel(\"jonatasgrosman/wav2vec2-large-xlsr-53-english\",device=device)"
      ],
      "metadata": {
        "colab": {
          "base_uri": "https://localhost:8080/"
        },
        "id": "cRM6A1fSW_2s",
        "outputId": "6b4b031f-ed88-4852-f90d-069b2dcf1214"
      },
      "execution_count": 43,
      "outputs": [
        {
          "output_type": "stream",
          "name": "stderr",
          "text": [
            "INFO:huggingsound.speech_recognition.model:Loading model...\n"
          ]
        }
      ]
    },
    {
      "cell_type": "markdown",
      "source": [
        "**Audio chunking**"
      ],
      "metadata": {
        "id": "4oAqd7R2Xp3Q"
      }
    },
    {
      "cell_type": "code",
      "source": [
        "import librosa"
      ],
      "metadata": {
        "id": "ZrILHpwPXxgW"
      },
      "execution_count": 44,
      "outputs": []
    },
    {
      "cell_type": "code",
      "source": [
        "input_file='/content/ytaudio.wav'"
      ],
      "metadata": {
        "id": "_eB-hTqhX3lI"
      },
      "execution_count": 45,
      "outputs": []
    },
    {
      "cell_type": "code",
      "source": [
        "print(librosa.get_samplerate(input_file))\n",
        "\n",
        "stream=librosa.stream(\n",
        "    input_file,\n",
        "    block_length=30,\n",
        "    frame_length=1600,\n",
        "    hop_length=16000\n",
        ")"
      ],
      "metadata": {
        "colab": {
          "base_uri": "https://localhost:8080/"
        },
        "id": "mSgW8d1pX_G2",
        "outputId": "da4076c9-80d5-4546-a907-084f1e67564c"
      },
      "execution_count": 46,
      "outputs": [
        {
          "output_type": "stream",
          "name": "stdout",
          "text": [
            "16000\n"
          ]
        }
      ]
    },
    {
      "cell_type": "code",
      "source": [
        "import soundfile as sf"
      ],
      "metadata": {
        "id": "9d_OKBslYZgx"
      },
      "execution_count": 47,
      "outputs": []
    },
    {
      "cell_type": "code",
      "source": [
        "for i, speech in enumerate(stream):\n",
        "  sf.write(f'{i}.wav',speech,16000)"
      ],
      "metadata": {
        "id": "ouAVV2jyYghI"
      },
      "execution_count": 48,
      "outputs": []
    },
    {
      "cell_type": "markdown",
      "source": [
        "**CHUNK TRANSCRIPTION**"
      ],
      "metadata": {
        "id": "8NsWeP7LZCwq"
      }
    },
    {
      "cell_type": "code",
      "source": [
        "audio_path=[]\n",
        "for a in range (i+1):\n",
        "  audio_path.append(f'/content/{a}.wav')"
      ],
      "metadata": {
        "id": "hsllgEXMZI0V"
      },
      "execution_count": 49,
      "outputs": []
    },
    {
      "cell_type": "code",
      "source": [
        "audio_path"
      ],
      "metadata": {
        "colab": {
          "base_uri": "https://localhost:8080/"
        },
        "id": "YHWQh89rZvvF",
        "outputId": "f46b441b-5b49-4105-9d5a-fa3cf17be256"
      },
      "execution_count": 50,
      "outputs": [
        {
          "output_type": "execute_result",
          "data": {
            "text/plain": [
              "['/content/0.wav',\n",
              " '/content/1.wav',\n",
              " '/content/2.wav',\n",
              " '/content/3.wav',\n",
              " '/content/4.wav',\n",
              " '/content/5.wav',\n",
              " '/content/6.wav',\n",
              " '/content/7.wav',\n",
              " '/content/8.wav',\n",
              " '/content/9.wav',\n",
              " '/content/10.wav',\n",
              " '/content/11.wav',\n",
              " '/content/12.wav',\n",
              " '/content/13.wav',\n",
              " '/content/14.wav',\n",
              " '/content/15.wav',\n",
              " '/content/16.wav',\n",
              " '/content/17.wav',\n",
              " '/content/18.wav',\n",
              " '/content/19.wav',\n",
              " '/content/20.wav',\n",
              " '/content/21.wav',\n",
              " '/content/22.wav',\n",
              " '/content/23.wav',\n",
              " '/content/24.wav',\n",
              " '/content/25.wav',\n",
              " '/content/26.wav',\n",
              " '/content/27.wav',\n",
              " '/content/28.wav',\n",
              " '/content/29.wav',\n",
              " '/content/30.wav',\n",
              " '/content/31.wav',\n",
              " '/content/32.wav',\n",
              " '/content/33.wav',\n",
              " '/content/34.wav',\n",
              " '/content/35.wav',\n",
              " '/content/36.wav',\n",
              " '/content/37.wav',\n",
              " '/content/38.wav',\n",
              " '/content/39.wav',\n",
              " '/content/40.wav',\n",
              " '/content/41.wav',\n",
              " '/content/42.wav',\n",
              " '/content/43.wav',\n",
              " '/content/44.wav',\n",
              " '/content/45.wav',\n",
              " '/content/46.wav',\n",
              " '/content/47.wav',\n",
              " '/content/48.wav',\n",
              " '/content/49.wav',\n",
              " '/content/50.wav',\n",
              " '/content/51.wav',\n",
              " '/content/52.wav',\n",
              " '/content/53.wav',\n",
              " '/content/54.wav',\n",
              " '/content/55.wav',\n",
              " '/content/56.wav',\n",
              " '/content/57.wav',\n",
              " '/content/58.wav']"
            ]
          },
          "metadata": {},
          "execution_count": 50
        }
      ]
    },
    {
      "cell_type": "code",
      "source": [
        "transcriptions=model.transcribe(audio_path)"
      ],
      "metadata": {
        "colab": {
          "base_uri": "https://localhost:8080/"
        },
        "id": "BmbG-VwqZ1QK",
        "outputId": "4128fe67-e874-476e-dcdb-0672fb8b6129"
      },
      "execution_count": 51,
      "outputs": [
        {
          "output_type": "stream",
          "name": "stderr",
          "text": [
            "100%|██████████| 59/59 [00:26<00:00,  2.21it/s]\n"
          ]
        }
      ]
    },
    {
      "cell_type": "code",
      "source": [
        "full_transcript=''"
      ],
      "metadata": {
        "id": "6Z4uugX4cFpa"
      },
      "execution_count": 52,
      "outputs": []
    },
    {
      "cell_type": "code",
      "source": [
        "for item in transcriptions:\n",
        "  full_transcript += ''.join(item['transcription'])"
      ],
      "metadata": {
        "id": "1Wfppj6IcJ16"
      },
      "execution_count": 53,
      "outputs": []
    },
    {
      "cell_type": "code",
      "source": [
        "full_transcript"
      ],
      "metadata": {
        "colab": {
          "base_uri": "https://localhost:8080/",
          "height": 123
        },
        "id": "viw0munncn9R",
        "outputId": "3fe4710c-7690-4484-82d2-a24366f5faf9"
      },
      "execution_count": 54,
      "outputs": [
        {
          "output_type": "execute_result",
          "data": {
            "text/plain": [
              "\"whyl what an audiencebut ifbeing honest i don't care what you think  y talkdont i care what the internet thinks might talkthey re the ones wou get it seen and get it shared and i think that's where most people get wrong they're talking to you here stafwhyl what an audiencebut ifbeing honest i don't care what you think  my alki dont i care what the internet thinks might talkthey are the ones wou get it seen and get it shared and i think that's where most people get wrong they're talking to you here stead of talking to youwhyl what an audiencebut fbeing honest i don't care what you think  my alki dont i care what the internet thinks might talkthey re the ones wou get it seen and get it shared and i think that's where most people get wrong they're talking to you here stead of talking to you randomwhil what an audiencebut ifbeing honest i don't care what you think o m alk dont i care what the internet thinks might talk they re the ones wou get it seen and get it shared and i think that's where most people get wrong they're talking to you here stead of talking to you randompsowhil what an audiencebut ifbeing honest i don't care what you think o my alkdont i care what the internet thinks might talks they re the ones wou get it seen and get it shared and i think that's where most people get wrong they're talking to you here stead of talking to you random person-scrollandfwhil what an audiencebut ifbeing honest i don't care what you think of my alk dont i care what the internet thinks might talks they re the ones wou get it seen and get it shared and i think that's where most people get wrong they're talking to you here stead of talking to you random person-scrolland facebookwhil what an audiencebut ifbeing honest i don't care what you think of my talki dont i care what the internet thinks might talkcas they re the ones wou get it seen and get it shared and i think that's where most people get wrong they're talking to you here stead of talking to you random personscrolland facebookwhil what an audiencebut ifbeing honest i don't care what you think of my alkonti care what the internet thinks might talkcas they re the ones wou get it seen and get it shared and i think that's where most people get wrong they're talking to you here stead of talking to you random person-scrolland facebook thanks for the clickwhil what an audiencebut ifbeing honest i don't care what you think of my alkonti care what the internet thinks mit talkcas they re the ones wou get it seen and get it shared and i think that's where most people get wrong they're talking to you here stead of talking to you random person-scrolland facebook thanks for the clickwhil what an audience but ifbeing honest i don't care what you think of my alkonti care what the internet thinks mit alkcas they re the ones wou get it seen and get it shared and i think that's where most people get wrong they're talking to you here stead of talking to you random person-scrolland facebook thanks for the clickyes bac ntowhil what an audience but fbeing honesti don't care what you think of my alkonti care what the internet thinks mi alks they re the ones wou get it seen and get it shared and i think that's where most people get awrong they're talking to you here stead of talking to you random person-scrolland facebook thanks for the clickyesee back in two-thousand nine weewhyl what an audience but fbeing honesti don't care what you think of my alkonti care what the internet thinks mit alkcas they re the ones wou get it seen and get it shared and i think that's where most people get wrong they're talking to you here stead of talking to you random person-scrolland facebook thanks for the clickyesee back in two-thousand nine we all had these weerwhel what an audience but fbeing honest i don't care what you think of my alkonti care what the internet thinks m alkas they re the ones wou get it seen and get it shared and i think that's where most people get wrong they're talking to you here stead of talking to you random person-scrolland facebook thanks for the clickyesee back in two-thousand nine we all have these weard little things calldwhewhat an audience but fbeing honest i don't care what you think o m alkonti care whath the internet thinks mi alkthey are the ones wou get it seen and get it shared and i think that's where most people get wrong they're talking to you here stead of talking to you random person-scrolland facebook thanks for the clickyesee back in two-thousand nine we all have these weard little things called attentiwhat an audiencebut fbeing honest i don't care what you think of my alknti care whath the internet thinks y alka they are the ones wou get it seen and get it shared and i think that's where most people get wrong they're talking to you here stead of talking to you random person-scrolland facebook thanks for the clickyesee back in two-thousand nine we all have these weard little things called attention spansaudiencebut fbeing honest i don't care whatyou think of my lti care whath the internet thinks my alkas they are the ones wou get it seen and get it shared and i think that's where most people get awrong they're talking to you here stead of talking to you random person-scrolland facebook thanks for the clickyesee back in two-thousand nine we all have these weard little things called attentionspansbut ifbeing honesti don't care whatyou think mli care whath the internet thinks mit lkthey are the ones wou get it seen and get it shared and i think that's where most people get awrong they're talking to you here stead of talking to you random person-scrolland facebook thanks for the clickyesee back in two-thousand nine we all have these weard little things called attention spanstheyre  teyri don't care what you think mi care whath the internet thinks milthey are the ones wo get it seen and get it shared and i think that's where most people get awrong they're talking to you here stead of talking to you random person-scrolland facebook thanks for the clickyesee back in two-thousand nine we all have these weard little things called attention spansye they're on theyre we killed hemhat ouhink ti care whatth internet thiks mithey are the ones wo get it seen and get it shared and i think that's where most people get awrong they're talking to you here stead of talking to you random person-scrolland facebook thanks for the clickyesee back in two-thousand nine we all have these weard little things called attention spansye theyre theyre we killed himtheir deadonti care watth internet thinks mthey re the ones wo get it seen and get it shared and i think that's where most people get awrong they're talking to you here stead of talking to you random person-scrolland facebook thanks for the clickyesee back in two-thousand nine we all have these weard little things called attention spansye they're theyre we killed himtheir deadonti care wathh internet thiks mtheyare the ones wo get it seen and get it shared and i think that's where most people get awrong they're talking to you here stead of talking to you random person-scrolland facebook thanks for the clickyesee back in two-thousand nine we all have these weard little things called attention spansye theyre theyre we killed himtheir deadi'm trying toi care with th internet thiks theyare the ones wo get it seen and get it shared and i think that's where most people get awrong they're talking to you here stead of talking to you random person-scrolland facebook thanks for the clickyesee back in two-thousand nine we all have these weard little things called attention spansye theyre n theyre we killed himther deadi'm trying to think of the last time ik theyare the ones wo get it seen and get it shared and i think thats where most people get awrong they're talking to you here stead of talking to you random person-scrolland facebook thanks for the clickyesee back in two-thousand nine we all have these weard little things called attention spansye theyre theyre we killed himtheir deadi'm trying to think of the last time i watched in eighttethey are the ones wou get it seen and get it shared and i think that's where most people get awrong they're talking to you here stead of talking to you random person-scrolland facebook thanks for the clickyesee back in two-thousand nine we all have these weard little things called attention spansye theyre  theyre we killed himthe deadi'm trying to think of the last time i watched in eighteen minutes headtalkca they are the ones wo get it seen and get it shared and i think that's where most people get awrong they're talking to you here stead of talking to you random person-scrolland facebook thanks for the clickyesee back in two-thousand nine we all have these weard little things called attention spansye there  there we killed himthe deadi'm trying to think of the last time i watched in eighteen minutes et'spiyeyo get it seen and get itshared and i think that's where most people get awrong they're talking to you here stead of talking to you random person-scrolland facebook thanks for the clickyesee back in two-thousand nine we all have these weard little things called attention spansye theyre n there we killed himther deadi'm trying to think of the last time i watched an eighteen minutes spn years literalletit sharedand i think that's where most people get awrong they're talking to you here stead of talking to you random person-scrolland facebook thanks for the clickyesee back in two-thousand nine we all hade these weard little things called attention spansye theyre on theyre we killed himther deadi'm trying to think of the last time i watched an eighteen minutes sp years literallyand i think tat's where most people get wrong they're talking to you here stead of talking to you random person-scrolland facebook thanks for the clickyesee back in two-thousand nine we all hade these weard little things called attention spansye theyre n theyre we killed himther deadi'm trying to think of the last time i watched an eighteen minutes k'sp years literallymost people get wrong they're taking to you here stead of talking to you random person-scrolland facebook thanks for the clickyesee back in two-thousand nine we all had these weard little things called attention spansye theyre n theyre we killed himthe deadi'm trying to think of the last time i watched an eighteen minutes k'spn years literallythey're talking to you here stead of talking to you random person scrolland facebook thanks for the clickyesee back in two-thousand nine we all had these weard little things called attention spansye they're on theyre we killed himthe deadi'm trying to think of the last time i watched an eighteen minutes kt'sp years literallyuhere stead of talking to you-random-person-scrolland facebook thanks for the clickye see back in two-thousand nine we all had these weard little things called attention spansye there on there we killed himthe deadi'm trying to think of the last time i watched an eighteen minutes k'spnyears literallystead of talking to you random person-scrolland facebook thanks for the clickyesee back in two-thousand nine we all had these weard little things called attention spansye there on there we killed himthe deadi'm trying to think of the last time i watched an eighteen minutes kt'spn years literallynstead of talking to you random person-scrolland facebook thanks for the clickyesee back in two-thousand nine we all had these weard little things called attention spansye there on there we killed himthe deadi'm trying to think of the last time i watched an eighteen minutes kt'spin years literallyrandom-person-scrolland facebook thanks for the clickyesee back in two-thousand nine we all had these weard little things called attention spansye there on there we killed himthe deadi'm trying to think of the last time i watched in eighteen minutes hek t'spin years literallypson scrolland facebook thanks for the clickyesee back in two-thousand nine we all had these weard little things called attention spansye there on there we killed himthe deadi'm trying to think of the last time i watched in eighteen minutes hek t'spin years literallyscrolland facebook thanks for the clickyesee back in two-thousand nine we all had these weard little things called attention spansye the're on there we killed himthe deadi'm trying to think of the last time i watched in eighteen minutes hedok t'spin years literallyfbookthanks for the clickyesee back in two-thousand nine we all had these weard little things called attention spansye there on there we killed himthedeadi'm trying to think of the last time i watched in eighteen-minutes hedok t'spin years literallythanks for the clickyesee back in two-thousand nine we all had these weard little things called attention spansye there one there we killed himthedeadi'm trying to think of the last time i watched in eighteen-minutes hedok 'spin years literallythanks for the clickye see back in two-thousand nine we all had these weard little things called attention spansye there one there we killed himthedeadi'm trying to think of the last time i watched in eighteen-minutes hedok spin years literallyyesee back in two-thousand nine we all had these weard little things called attention spansye there one there we killed himtheeadi'm trying to think of the last time i watched in eighteen-minutes hedok spin years literallyyesee back in two-thousand nine we all had these weard little things called attention spansye the're one there we killed himtheeadi'm trying to think of the last time i watched in eighteen-minutes hedok spin years literallyin two-thousand nine we all had these weard little things called attention spansye there on there we killed himthe deadi'm trying to think of the last time i watched in eighteen-minutes hedok spin years literallywe all had these weard little things called attention spansye there one there we killed himthe deadi'm trying to think of the last time i watched in eighteen-minutes hedok spin years literallyweared little things called attention spansyea there gone there we killed himthe deadi'm tryng to think of the last time i watched in eighteen minutes hedok spin years literallys called attention spansyea there gone there we killed himthedeadi'm trying to think of the last time i watched in eighteen-minutes hedk spin years literallyetention spansyea there gone there we killed himthedeadi'm trying to think of the last time i watched in eighteen-minutes hedtolk spin years literallyyea theyre gone there we killed himthedeadi'm trying to think of the last time i watched in eighteen minutes hedolk t'spin years literallyye theyre gone there we killed himthe deadi'm trying to think of the last time i watched in eighteen minutes hedtalk spin years literallywe killed himthedeadi'm tryng to think of the last time i watched in eighteen-minutes hedalk t'spin years literallyi'm tryng to think of the last time i watched in eighteen minutes hedalkt'spin years literallyi'm tryng to think of the last time i watched in eighteen minutes hedtalk t'spin years literallyi'm troyng to think of the last time i watched in eighteen minutes hed talk t'spin years literallythink of the last time i watched in eighteen-minutes hkspin years literallyey watch an eighteen minutes hedlk spin years literallyeighteen minutes hk spin years literallytspin years literallyen years literallyliterarlyso if youre given it's headtolk keep it quick i'm doing minding under a minute i'm at forty-four seconds right now that means we got time for one final joke why are balloons so expensiveinflation\""
            ],
            "application/vnd.google.colaboratory.intrinsic+json": {
              "type": "string"
            }
          },
          "metadata": {},
          "execution_count": 54
        }
      ]
    },
    {
      "cell_type": "markdown",
      "source": [
        "TEXT SUMMARIZATION\n"
      ],
      "metadata": {
        "id": "tp4aIw2kcxJQ"
      }
    },
    {
      "cell_type": "code",
      "source": [
        "from transformers import pipeline"
      ],
      "metadata": {
        "id": "dZwXtzxQc3cw"
      },
      "execution_count": 55,
      "outputs": []
    },
    {
      "cell_type": "code",
      "source": [
        "summarization = pipeline('summarization')"
      ],
      "metadata": {
        "colab": {
          "base_uri": "https://localhost:8080/"
        },
        "id": "1oP-0gyGc9-V",
        "outputId": "efaca7df-074d-431e-e7c7-3d6a1ad4558f"
      },
      "execution_count": 56,
      "outputs": [
        {
          "output_type": "stream",
          "name": "stderr",
          "text": [
            "No model was supplied, defaulted to sshleifer/distilbart-cnn-12-6 and revision a4f8f3e (https://huggingface.co/sshleifer/distilbart-cnn-12-6).\n",
            "Using a pipeline without specifying a model name and revision in production is not recommended.\n"
          ]
        }
      ]
    },
    {
      "cell_type": "code",
      "source": [
        "num_iters=int(len(full_transcript)/1000)\n",
        "summarized_text=[]\n",
        "for i in range(0,num_iters+1):\n",
        "  start=0\n",
        "  start=i*1000\n",
        "  end=(i+1)*1000\n",
        "  out=summarization(full_transcript[start:end],min_length=5,max_length=20)\n",
        "  out=out[0]\n",
        "  out=out['summary_text']\n",
        "  summarized_text.append(out)"
      ],
      "metadata": {
        "id": "8n-MdDx9dpkU"
      },
      "execution_count": 58,
      "outputs": []
    },
    {
      "cell_type": "code",
      "source": [
        "print(summarized_text)"
      ],
      "metadata": {
        "colab": {
          "base_uri": "https://localhost:8080/"
        },
        "id": "q9aykwJr59Kr",
        "outputId": "70401d63-b45d-4c53-932b-951749f22295"
      },
      "execution_count": 60,
      "outputs": [
        {
          "output_type": "stream",
          "name": "stdout",
          "text": [
            "[\" i think that's where most people get wrong they're talking to you here staf\", \" i think that's where most people get wrong they're talking to you here stead of\", \" i don't care what you think of my alkonti care what the internet thinks\", \" i don't care what you think of my alkonti care what the internet thinks\", ' Back in two-thousand nine we all have these weard little things called attent', ' Back in two-thousand nine we all have these weard little things called attent', \" i think that's where most people get awrong they're talking to you here\", ' We all have these weard little things called attention spansye theyre theyre we', \" i think that's where most people get awrong they're talking to you here\", ' Back in two-thousand nine we all have these weard little things called attention', ' Back in two-thousand nine we all had these weard little things called attention', \" i'm trying to think of the last time i watched an eighteen minutes kt's\", \" i'm trying to think of the last time i watched in eighteen minutes hedok t\", ' Back in two-thousand nine we all had these weard little things called attention', \" The deadi'm trying to think of the last time i watched in eighteen minutes hed\", \" If youre given it's headtolk keep it quick i'm doing minding\"]\n"
          ]
        }
      ]
    }
  ]
}